{
  "nbformat": 4,
  "nbformat_minor": 0,
  "metadata": {
    "colab": {
      "provenance": []
    },
    "kernelspec": {
      "name": "python3",
      "display_name": "Python 3"
    },
    "language_info": {
      "name": "python"
    }
  },
  "cells": [
    {
      "cell_type": "markdown",
      "source": [],
      "metadata": {
        "id": "K00EJ7KTMp-Y"
      }
    },
    {
      "cell_type": "markdown",
      "source": [
        "# PYTHONBASICS"
      ],
      "metadata": {
        "id": "Xq3LtQH9MsSu"
      }
    },
    {
      "cell_type": "markdown",
      "source": [
        "\n",
        "\n",
        "1. What is Python, and why is it popular?\n",
        "\n",
        "  Python is a high-level, interpreted programming language known for its simplicity, readability, and versatility. It is popular because it supports multiple programming paradigms, has a large community, extensive libraries, and is widely used in areas like web development, data science, AI, automation, and more.\n",
        "\n",
        "2. What is an interpreter in Python?\n",
        "\n",
        "  An interpreter in Python is a program that reads and executes Python code line by line, translating it into machine code at runtime without the need for compilation.\n",
        "\n",
        "3. What are pre-defined keywords in Python?\n",
        "\n",
        "  Pre-defined keywords in Python are reserved words that have special meaning and purpose in the language, such as if, else, for, while, def, return, etc. They cannot be used as variable names.\n",
        "\n",
        "4. Can keywords be used as variable names?\n",
        "\n",
        "  No, keywords cannot be used as variable names because they are reserved by Python for specific syntactic functions.\n",
        "\n",
        "5. What is mutability in Python?\n",
        "\n",
        "  Mutability refers to whether an object can be changed after it is created. Mutable objects (like lists) can be modified, while immutable objects (like strings and tuples) cannot.\n",
        "\n",
        "6. Why are lists mutable, but tuples are immutable?\n",
        "\n",
        "  Lists are mutable because they are designed to allow changes such as adding, removing, or modifying elements. Tuples are immutable to ensure their elements remain constant, which makes them faster and suitable for fixed data.\n",
        "\n",
        "7. What is the difference between \"==\" and \"is\" operators in Python?\n",
        "\n",
        "  \"==\" checks if two objects have the same value, while \"is\" checks if two objects refer to the same memory location (identity).\n",
        "\n",
        "8. What are logical operators in Python?\n",
        "\n",
        "  Logical operators in Python are used to combine conditional statements. They include and, or, and not.\n",
        "\n",
        "9. What is type casting in Python?\n",
        "\n",
        "  Type casting in Python is converting a value from one data type to another, such as converting an integer to a float or a string to an integer.\n",
        "\n",
        "10. What is the difference between implicit and explicit type casting?\n",
        "\n",
        "  Implicit type casting is automatically done by Python without user intervention (e.g., integer to float).\n",
        "  Explicit type casting** is done by the user using functions like \"int()\", \"float()\", or \"str()\".\n",
        "\n",
        "11. What is the purpose of conditional statements in Python?\n",
        "\n",
        "  Conditional statements are used to perform different actions based on different conditions, allowing the program to make decisions during execution.\n",
        "\n",
        "12. How does the elif statement work?\n",
        "\n",
        "  The elif statement allows multiple conditions to be checked sequentially after an initial \"if\" condition. If the \"if\" is false, it checks \"elif\", and if \"elif\" is false, it moves to the next \"elif\" or \"else\".\n",
        "\n",
        "13. What is the difference between for and while loops?\n",
        "\n",
        "  A for loop iterates over a sequence (like a list or range) for a known number of times, while a \"while\" loop continues as long as a condition remains true, which is useful when the number of iterations is unknown.\n",
        "\n",
        "14. Describe a scenario where a while loop is more suitable than a for loop.\n",
        "\n",
        "  A \"while\" loop is more suitable when waiting for a condition to become false, such as reading user input until they enter a valid value or until they decide to exit.\n",
        "\n"
      ],
      "metadata": {
        "id": "U9owqKAyNEkr"
      }
    },
    {
      "cell_type": "markdown",
      "source": [
        "#Practical Questions\n",
        "\n",
        "1. Write a Python program to print \"Hello, World!\""
      ],
      "metadata": {
        "id": "l3LoN8ABRoTu"
      }
    },
    {
      "cell_type": "code",
      "source": [
        "print(\"Hello, World!\")\n"
      ],
      "metadata": {
        "colab": {
          "base_uri": "https://localhost:8080/"
        },
        "id": "-S_WwTJaMwFB",
        "outputId": "f59fc2f4-8846-47d2-b65b-1e6528177262"
      },
      "execution_count": 1,
      "outputs": [
        {
          "output_type": "stream",
          "name": "stdout",
          "text": [
            "Hello, World!\n"
          ]
        }
      ]
    },
    {
      "cell_type": "markdown",
      "source": [
        "2. Write a Python program that displays your name and age."
      ],
      "metadata": {
        "id": "2fmTLhSNR8YY"
      }
    },
    {
      "cell_type": "code",
      "source": [
        "name = \"Ankit Kumar\"\n",
        "age = 25\n",
        "print(\"Name:\", name)\n",
        "print(\"Age:\", age)"
      ],
      "metadata": {
        "colab": {
          "base_uri": "https://localhost:8080/"
        },
        "id": "ctRnIjeNQljZ",
        "outputId": "a5bccbeb-aaa0-4453-8147-83af9d056481"
      },
      "execution_count": 16,
      "outputs": [
        {
          "output_type": "stream",
          "name": "stdout",
          "text": [
            "Name: Ankit Kumar\n",
            "Age: 25\n"
          ]
        }
      ]
    },
    {
      "cell_type": "markdown",
      "source": [
        "3. Write code to print all the pre-defined keywords in Python using the keyword library."
      ],
      "metadata": {
        "id": "V6GozBBFSPWw"
      }
    },
    {
      "cell_type": "code",
      "source": [
        "import keyword\n",
        "print(keyword.kwlist)\n"
      ],
      "metadata": {
        "colab": {
          "base_uri": "https://localhost:8080/"
        },
        "id": "AHWiDBozSEkj",
        "outputId": "488d6c39-579f-41d3-d657-05daf8d968f3"
      },
      "execution_count": 3,
      "outputs": [
        {
          "output_type": "stream",
          "name": "stdout",
          "text": [
            "['False', 'None', 'True', 'and', 'as', 'assert', 'async', 'await', 'break', 'class', 'continue', 'def', 'del', 'elif', 'else', 'except', 'finally', 'for', 'from', 'global', 'if', 'import', 'in', 'is', 'lambda', 'nonlocal', 'not', 'or', 'pass', 'raise', 'return', 'try', 'while', 'with', 'yield']\n"
          ]
        }
      ]
    },
    {
      "cell_type": "markdown",
      "source": [
        "4. Write a program that checks if a given word is a Python keyword."
      ],
      "metadata": {
        "id": "GF8BTBbdSZZF"
      }
    },
    {
      "cell_type": "code",
      "source": [
        "import keyword\n",
        "word = input(\"Enter a word: \")\n",
        "if keyword.iskeyword(word):\n",
        "    print(word, \"is a Python keyword.\")\n",
        "else:\n",
        "    print(word, \"is not a Python keyword.\")\n"
      ],
      "metadata": {
        "colab": {
          "base_uri": "https://localhost:8080/"
        },
        "id": "YywF-gZESaIz",
        "outputId": "301c2106-16e2-4d3f-da95-af9a1b4df274"
      },
      "execution_count": 4,
      "outputs": [
        {
          "output_type": "stream",
          "name": "stdout",
          "text": [
            "Enter a word: if\n",
            "if is a Python keyword.\n"
          ]
        }
      ]
    },
    {
      "cell_type": "markdown",
      "source": [
        "5. Create a list and tuple in Python, and demonstrate how attempting to change an element works differently for each."
      ],
      "metadata": {
        "id": "B43ffE6uSjJd"
      }
    },
    {
      "cell_type": "code",
      "source": [
        "my_list = [1, 2, 3]\n",
        "my_tuple = (1, 2, 3)\n",
        "\n",
        "my_list[0] = \"4\"\n",
        "\n",
        "print(my_list)\n",
        "print(my_tuple)"
      ],
      "metadata": {
        "colab": {
          "base_uri": "https://localhost:8080/"
        },
        "id": "aqxUVWgiSdig",
        "outputId": "9c1cc836-67be-48c1-ecbe-8e23bbeeb71f"
      },
      "execution_count": 17,
      "outputs": [
        {
          "output_type": "stream",
          "name": "stdout",
          "text": [
            "['4', 2, 3]\n",
            "(1, 2, 3)\n"
          ]
        }
      ]
    },
    {
      "cell_type": "markdown",
      "source": [
        "6. Write a function to demonstrate the behavior of mutable and immutable arguments."
      ],
      "metadata": {
        "id": "FS5CnDeATAJq"
      }
    },
    {
      "cell_type": "code",
      "source": [
        "# Function that modifies a mutable object (list)\n",
        "def modify_list(lst):\n",
        "    lst.append(100)\n",
        "\n",
        "# Function that modifies an immutable object (integer)\n",
        "def modify_number(num):\n",
        "    num += 10\n",
        "    return num\n",
        "\n",
        "# Main program to demonstrate the behavior\n",
        "my_list = [1, 2, 3]\n",
        "print(\"Original list:\", my_list)\n",
        "modify_list(my_list)\n",
        "print(\"List after modification:\", my_list)\n",
        "\n",
        "my_num = 5\n",
        "print(\"Original number:\", my_num)\n",
        "my_num = modify_number(my_num)\n",
        "print(\"Number after modification:\", my_num)\n"
      ],
      "metadata": {
        "colab": {
          "base_uri": "https://localhost:8080/"
        },
        "id": "VsC0mPpUS-ks",
        "outputId": "dec0856a-eace-4da0-d9e0-b98a0771532b"
      },
      "execution_count": 18,
      "outputs": [
        {
          "output_type": "stream",
          "name": "stdout",
          "text": [
            "Original list: [1, 2, 3]\n",
            "List after modification: [1, 2, 3, 100]\n",
            "Original number: 5\n",
            "Number after modification: 15\n"
          ]
        }
      ]
    },
    {
      "cell_type": "markdown",
      "source": [
        "7. Write a program that performs basic arithmetic operations on two user-input numbers."
      ],
      "metadata": {
        "id": "J-h10d9oTw2Y"
      }
    },
    {
      "cell_type": "code",
      "source": [
        "a = float(input(\"Enter first number: \"))\n",
        "b = float(input(\"Enter second number: \"))\n",
        "\n",
        "print(\"Addition:\", a + b)\n",
        "print(\"Subtraction:\", a - b)\n",
        "print(\"Multiplication:\", a * b)\n",
        "print(\"Division:\", a / b if b != 0 else \"Cannot divide by zero\")\n"
      ],
      "metadata": {
        "colab": {
          "base_uri": "https://localhost:8080/"
        },
        "id": "iMb4eOgcTr__",
        "outputId": "8bb64a2f-6827-4387-ce58-05168e63c6df"
      },
      "execution_count": 7,
      "outputs": [
        {
          "output_type": "stream",
          "name": "stdout",
          "text": [
            "Enter first number: 1\n",
            "Enter second number: 2\n",
            "Addition: 3.0\n",
            "Subtraction: -1.0\n",
            "Multiplication: 2.0\n",
            "Division: 0.5\n"
          ]
        }
      ]
    },
    {
      "cell_type": "markdown",
      "source": [
        "8. Write a program to demonstrate the use of logical operators."
      ],
      "metadata": {
        "id": "_rU_XZEkUJbr"
      }
    },
    {
      "cell_type": "code",
      "source": [
        "a = int(input(\"Enter first number (a): \"))\n",
        "b = int(input(\"Enter second number (b): \"))\n",
        "print(f\"a > 0 and b > 0: {a > 0 and b > 0}\")\n",
        "print(f\"a > 0 or b > 0: {a > 0 or b > 0}\")"
      ],
      "metadata": {
        "colab": {
          "base_uri": "https://localhost:8080/"
        },
        "id": "9Lzpy4GrUAtQ",
        "outputId": "0b77d5c7-de87-4434-e942-f18e5726dfac"
      },
      "execution_count": 8,
      "outputs": [
        {
          "output_type": "stream",
          "name": "stdout",
          "text": [
            "Enter first number (a): 1\n",
            "Enter second number (b): 2\n",
            "a > 0 and b > 0: True\n",
            "a > 0 or b > 0: True\n"
          ]
        }
      ]
    },
    {
      "cell_type": "markdown",
      "source": [
        "9. Write a Python program to convert user input from string to integer, float, and boolean types."
      ],
      "metadata": {
        "id": "MkFi_0owUXch"
      }
    },
    {
      "cell_type": "code",
      "source": [
        "user_input = input(\"Enter a value: \")\n",
        "\n",
        "int_value = int(user_input)\n",
        "float_value = float(user_input)\n",
        "bool_value = bool(int(user_input))  # Converts 0 to False, others to True\n",
        "\n",
        "print(\"Integer:\", int_value)\n",
        "print(\"Float:\", float_value)\n",
        "print(\"Boolean:\", bool_value)\n"
      ],
      "metadata": {
        "colab": {
          "base_uri": "https://localhost:8080/"
        },
        "id": "f0xDgKbQUUMG",
        "outputId": "9d236e94-e2d7-41c9-980c-af79cf8db5f5"
      },
      "execution_count": 9,
      "outputs": [
        {
          "output_type": "stream",
          "name": "stdout",
          "text": [
            "Enter a value: 1\n",
            "Integer: 1\n",
            "Float: 1.0\n",
            "Boolean: True\n"
          ]
        }
      ]
    },
    {
      "cell_type": "markdown",
      "source": [
        "10. Write code to demonstrate type casting with list elements."
      ],
      "metadata": {
        "id": "pRIih06mUgSu"
      }
    },
    {
      "cell_type": "code",
      "source": [
        "my_list = [\"1\", \"2\", \"3\"]\n",
        "int_list = [int(item) for item in my_list]\n",
        "print(\"Original list:\", my_list)\n",
        "print(\"List after type casting to integers:\", int_list)\n"
      ],
      "metadata": {
        "colab": {
          "base_uri": "https://localhost:8080/"
        },
        "id": "7A6sJyxVUb-B",
        "outputId": "783f9584-2589-49ab-801b-13d5dcc9f0ab"
      },
      "execution_count": 10,
      "outputs": [
        {
          "output_type": "stream",
          "name": "stdout",
          "text": [
            "Original list: ['1', '2', '3']\n",
            "List after type casting to integers: [1, 2, 3]\n"
          ]
        }
      ]
    },
    {
      "cell_type": "markdown",
      "source": [
        "11. Write a program that checks if a number is positive, negative, or zero."
      ],
      "metadata": {
        "id": "mDeoEudBVBc8"
      }
    },
    {
      "cell_type": "code",
      "source": [
        "num = float(input(\"Enter a number: \"))\n",
        "if num > 0:\n",
        "    print(\"Positive number\")\n",
        "elif num < 0:\n",
        "    print(\"Negative number\")\n",
        "else:\n",
        "    print(\"Zero\")\n"
      ],
      "metadata": {
        "colab": {
          "base_uri": "https://localhost:8080/"
        },
        "id": "uK0fDL3SUy9W",
        "outputId": "4bf0ef7b-e092-4eb9-8c79-3908f04c7bae"
      },
      "execution_count": 11,
      "outputs": [
        {
          "output_type": "stream",
          "name": "stdout",
          "text": [
            "Enter a number: 2\n",
            "Positive number\n"
          ]
        }
      ]
    },
    {
      "cell_type": "markdown",
      "source": [
        "12. Write a for loop to print numbers from 1 to 10."
      ],
      "metadata": {
        "id": "Pizo62isVMy6"
      }
    },
    {
      "cell_type": "code",
      "source": [
        "for i in range(1, 11):\n",
        "    print(i)\n"
      ],
      "metadata": {
        "colab": {
          "base_uri": "https://localhost:8080/"
        },
        "id": "2RbJcHcmVID8",
        "outputId": "9bd3959c-b608-41d4-cd65-39163bf0e6cb"
      },
      "execution_count": 12,
      "outputs": [
        {
          "output_type": "stream",
          "name": "stdout",
          "text": [
            "1\n",
            "2\n",
            "3\n",
            "4\n",
            "5\n",
            "6\n",
            "7\n",
            "8\n",
            "9\n",
            "10\n"
          ]
        }
      ]
    },
    {
      "cell_type": "markdown",
      "source": [
        "13. Write a Python program to find the sum of all even numbers between 1 and 50."
      ],
      "metadata": {
        "id": "QIkqKTH4VRG3"
      }
    },
    {
      "cell_type": "code",
      "source": [
        "sum_even = sum(i for i in range(2, 51, 2))\n",
        "print(\"Sum of even numbers from 1 to 50:\", sum_even)\n"
      ],
      "metadata": {
        "colab": {
          "base_uri": "https://localhost:8080/"
        },
        "id": "neJULxXHVPXe",
        "outputId": "46dce65d-9b63-455d-f129-8d504f38810e"
      },
      "execution_count": 13,
      "outputs": [
        {
          "output_type": "stream",
          "name": "stdout",
          "text": [
            "Sum of even numbers from 1 to 50: 650\n"
          ]
        }
      ]
    },
    {
      "cell_type": "markdown",
      "source": [
        "14. Write a program to reverse a string using a while loop."
      ],
      "metadata": {
        "id": "dkpagmocVb82"
      }
    },
    {
      "cell_type": "code",
      "source": [
        "s = input(\"Enter a string: \")\n",
        "reversed_s = \"\"\n",
        "index = len(s) - 1\n",
        "while index >= 0:\n",
        "    reversed_s += s[index]\n",
        "    index -= 1\n",
        "print(\"Reversed string:\", reversed_s)\n"
      ],
      "metadata": {
        "colab": {
          "base_uri": "https://localhost:8080/"
        },
        "id": "PyZF6KThVWiO",
        "outputId": "9ccbbf7b-8281-4d5f-e042-017d3ace0625"
      },
      "execution_count": 14,
      "outputs": [
        {
          "output_type": "stream",
          "name": "stdout",
          "text": [
            "Enter a string: abc\n",
            "Reversed string: cba\n"
          ]
        }
      ]
    },
    {
      "cell_type": "code",
      "source": [],
      "metadata": {
        "id": "jRAsl2pkViJu"
      },
      "execution_count": null,
      "outputs": []
    },
    {
      "cell_type": "markdown",
      "source": [
        "15. Write a Python program to calculate the factorial of a number provided by the user using a while loop.\n"
      ],
      "metadata": {
        "id": "GLgFbgV9Vmk-"
      }
    },
    {
      "cell_type": "code",
      "source": [
        "n = int(input(\"Enter a number: \"))\n",
        "factorial = 1\n",
        "i = 1\n",
        "while i <= n:\n",
        "    factorial *= i\n",
        "    i += 1\n",
        "print(\"Factorial of\", n, \"is\", factorial)\n"
      ],
      "metadata": {
        "colab": {
          "base_uri": "https://localhost:8080/"
        },
        "id": "Sa_L4H9pVq8X",
        "outputId": "932bda61-2a1d-45e4-e3ea-17a7dc7157c4"
      },
      "execution_count": 15,
      "outputs": [
        {
          "output_type": "stream",
          "name": "stdout",
          "text": [
            "Enter a number: 8\n",
            "Factorial of 8 is 40320\n"
          ]
        }
      ]
    },
    {
      "cell_type": "code",
      "source": [],
      "metadata": {
        "id": "_njFWeYkVuIH"
      },
      "execution_count": null,
      "outputs": []
    }
  ]
}